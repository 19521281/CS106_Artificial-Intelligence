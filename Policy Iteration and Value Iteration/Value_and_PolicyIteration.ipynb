{
  "nbformat": 4,
  "nbformat_minor": 0,
  "metadata": {
    "colab": {
      "name": "Value_and_PolicyIteration.ipynb",
      "provenance": []
    },
    "kernelspec": {
      "name": "python3",
      "display_name": "Python 3"
    },
    "language_info": {
      "name": "python"
    }
  },
  "cells": [
    {
      "cell_type": "code",
      "metadata": {
        "id": "YxoSLcnSmPOp"
      },
      "source": [
        "import gym\n",
        "import numpy as np\n",
        "import time\n",
        "from IPython import display"
      ],
      "execution_count": 17,
      "outputs": []
    },
    {
      "cell_type": "code",
      "metadata": {
        "id": "QULSncMyaAOv"
      },
      "source": [
        "env = gym.make('FrozenLake-v0')"
      ],
      "execution_count": 18,
      "outputs": []
    },
    {
      "cell_type": "code",
      "metadata": {
        "id": "tSK3OWa1HVPI"
      },
      "source": [
        "def policy_extraction(env, v_values, gamma=0.9):\n",
        "    policy = np.zeros(env.observation_space.n, dtype=np.int)\n",
        "\n",
        "    # Compute the best action for each state in the game\n",
        "    # Compute q-value for each (state-action) pair in the game\n",
        "    for state in range(env.observation_space.n):\n",
        "        q_values = []\n",
        "        # Compute q_value for each action\n",
        "        for action in range(env.action_space.n):\n",
        "            q_value = 0\n",
        "            for prob, next_state, reward, done in env.P[state][action]:\n",
        "                q_value += prob * (reward + gamma * v_values[next_state])\n",
        "            q_values.append(q_value)\n",
        "        \n",
        "        # Select the best action\n",
        "        best_action = np.argmax(q_values)\n",
        "        policy[state] = best_action\n",
        "    \n",
        "    return policy"
      ],
      "execution_count": 33,
      "outputs": []
    },
    {
      "cell_type": "code",
      "metadata": {
        "id": "cgaQM5_RzIxv"
      },
      "source": [
        "def policy_evaluation(env, policy, gamma = 0.9, term = 1e-3):\n",
        "  p_value = np.zeros(env.observation_space.n)\n",
        "\n",
        "  while True:\n",
        "    pre_p_value = np.copy(p_value)\n",
        "    for state in range(env.observation_space.n):\n",
        "      q_value = 0\n",
        "      policy_action = policy[state]\n",
        "      for prob, next_state, reward, done in env.env.P[state][policy_action]:\n",
        "        q_value += prob * (reward + gamma * pre_p_value[next_state])\n",
        "      p_value[state] = q_value\n",
        "    if np.sum(np.fabs(pre_p_value - p_value)) <= term:\n",
        "        return p_value"
      ],
      "execution_count": 19,
      "outputs": []
    },
    {
      "cell_type": "code",
      "metadata": {
        "id": "ePY7s6u_0Ylu"
      },
      "source": [
        "def policy_improvement(env, value, gamma = 0.9):\n",
        "  policy = np.zeros(env.observation_space.n)\n",
        "\n",
        "  for state in range(env.observation_space.n):\n",
        "    q_value = np.zeros(env.action_space.n)\n",
        "    for action in range(env.action_space.n):\n",
        "      for prob, state_, reward, _ in env.env.P[state][action]:\n",
        "        q_value[action] = sum(prob * (reward + gamma * value[state_]))\n",
        "    policy[state] = np.argmax(q_value)\n",
        "    \n",
        "    return policy"
      ],
      "execution_count": 25,
      "outputs": []
    },
    {
      "cell_type": "code",
      "metadata": {
        "id": "FfA5PqfEaCmz"
      },
      "source": [
        "def policy_iteration(env, max_iters = 1000, gamma = 0.9, term = 1e-3):\n",
        "  value_function = np.zeros(env.observation_space.n)\n",
        "  policy = np.zeros(env.observation_space.n, dtype=np.int)\n",
        "\n",
        "  for i in range(max_iters):\n",
        "    pre_policy = np.copy(policy)\n",
        "    value_function = policy_evaluation(env, policy, gamma, term)\n",
        "    policy = policy_extraction(env, value_function, gamma)\n",
        "    if np.all(policy == pre_policy):\n",
        "      print(f'Policy Iteration converged at {i}-th.')\n",
        "      break\n",
        "\n",
        "  return value_function, policy"
      ],
      "execution_count": 31,
      "outputs": []
    },
    {
      "cell_type": "code",
      "metadata": {
        "id": "8FNZ4b2fG8ZB",
        "colab": {
          "base_uri": "https://localhost:8080/"
        },
        "outputId": "5fff3cc8-0d06-43a3-98bd-f1f61fd50ece"
      },
      "source": [
        "value_function, policy = policy_iteration(env)\n",
        "print(policy)"
      ],
      "execution_count": 34,
      "outputs": [
        {
          "output_type": "stream",
          "text": [
            "Policy Iteration converged at 5-th.\n",
            "[0 3 0 3 0 0 0 0 3 1 0 0 0 2 1 0]\n"
          ],
          "name": "stdout"
        }
      ]
    },
    {
      "cell_type": "code",
      "metadata": {
        "id": "Zz5iaN6-20tJ"
      },
      "source": [
        "def value_iteration(env, max_iters = 1000, gamma = 0.9):\n",
        "    v_values = np.zeros(env.observation_space.n)\n",
        "\n",
        "    for i in range(max_iters):\n",
        "        prev_v_values = np.copy(v_values)\n",
        "\n",
        "        # Compute the value for state\n",
        "        for state in range(env.observation_space.n):\n",
        "            q_values = []\n",
        "            # Compute the q-value for each action\n",
        "            for action in range(env.action_space.n):\n",
        "                q_value = 0\n",
        "                # Loop through each possible outcome\n",
        "                for prob, next_state, reward, done in env.P[state][action]:\n",
        "                    q_value += prob * (reward + gamma * prev_v_values[next_state])\n",
        "                \n",
        "                q_values.append(q_value)\n",
        "            \n",
        "            # Select the best action\n",
        "            best_action = np.argmax(q_values)\n",
        "            v_values[state] = q_values[best_action]\n",
        "        \n",
        "        # Check convergence\n",
        "        if np.all(np.isclose(v_values, prev_v_values)):\n",
        "            print(f'Converged at {i}-th iteration.')\n",
        "            break\n",
        "    \n",
        "    return v_values"
      ],
      "execution_count": null,
      "outputs": []
    },
    {
      "cell_type": "code",
      "metadata": {
        "colab": {
          "base_uri": "https://localhost:8080/"
        },
        "id": "SrgLukVB21to",
        "outputId": "eb308fec-65c0-4570-d8ea-8dd5b1714b4c"
      },
      "source": [
        "value_function = value_iteration(env)\n",
        "policy = policy_extraction(env, value_function, gamma=0.9)\n",
        "print(policy)"
      ],
      "execution_count": null,
      "outputs": [
        {
          "output_type": "stream",
          "text": [
            "Converged at 117-th iteration.\n",
            "[3 2 2 2 2 2 2 2 3 3 3 3 2 2 2 1 3 3 0 0 2 3 2 1 3 3 3 1 0 0 2 1 3 3 0 0 2\n",
            " 1 3 2 0 0 0 1 3 0 0 2 0 0 1 0 0 0 0 2 0 1 0 0 1 1 1 0]\n"
          ],
          "name": "stdout"
        }
      ]
    },
    {
      "cell_type": "code",
      "metadata": {
        "id": "ALiBpjOQ3yKt"
      },
      "source": [
        "def play(env, policy):\n",
        "    state = env.reset()\n",
        "    total_reward = 0\n",
        "    done = False\n",
        "    steps = 0\n",
        "    #time.sleep(1)\n",
        "    #display.clear_output(wait=True)\n",
        "    while not done:\n",
        "        action = policy[state]\n",
        "        next_state, reward, done, info = env.step(action)\n",
        "        total_reward += reward\n",
        "        steps += 1\n",
        "        #print(f'Step {steps}')\n",
        "        #env.render()\n",
        "        #time.sleep(0.2)\n",
        "        #if not done:\n",
        "        #    display.clear_output(wait=True)\n",
        "        state = next_state\n",
        "\n",
        "    return total_reward"
      ],
      "execution_count": null,
      "outputs": []
    },
    {
      "cell_type": "code",
      "metadata": {
        "colab": {
          "base_uri": "https://localhost:8080/"
        },
        "id": "vCU5QFGD32jK",
        "outputId": "f4582e5a-9b51-4b87-afbb-9f6e4e1e5561"
      },
      "source": [
        "play(env, policy)"
      ],
      "execution_count": null,
      "outputs": [
        {
          "output_type": "execute_result",
          "data": {
            "text/plain": [
              "1.0"
            ]
          },
          "metadata": {
            "tags": []
          },
          "execution_count": 35
        }
      ]
    },
    {
      "cell_type": "code",
      "metadata": {
        "id": "ivrofeUv3zLQ"
      },
      "source": [
        "def play_multiple_times(env, policy, max_episodes):\n",
        "    success = 0\n",
        "\n",
        "    for i in range(max_episodes):\n",
        "        reward = play(env, policy)\n",
        "\n",
        "        if reward > 0:\n",
        "            success += 1\n",
        "    \n",
        "    print(f'Number of successes: {success}/{max_episodes}')"
      ],
      "execution_count": 29,
      "outputs": []
    },
    {
      "cell_type": "code",
      "metadata": {
        "colab": {
          "base_uri": "https://localhost:8080/",
          "height": 292
        },
        "id": "tKfu9W1z35qu",
        "outputId": "758e9e64-73d6-44a7-cb16-202b6646014b"
      },
      "source": [
        "play_multiple_times(env, policy, 1000)"
      ],
      "execution_count": 30,
      "outputs": [
        {
          "output_type": "error",
          "ename": "NameError",
          "evalue": "ignored",
          "traceback": [
            "\u001b[0;31m---------------------------------------------------------------------------\u001b[0m",
            "\u001b[0;31mNameError\u001b[0m                                 Traceback (most recent call last)",
            "\u001b[0;32m<ipython-input-30-a21f52702676>\u001b[0m in \u001b[0;36m<module>\u001b[0;34m()\u001b[0m\n\u001b[0;32m----> 1\u001b[0;31m \u001b[0mplay_multiple_times\u001b[0m\u001b[0;34m(\u001b[0m\u001b[0menv\u001b[0m\u001b[0;34m,\u001b[0m \u001b[0mpolicy\u001b[0m\u001b[0;34m,\u001b[0m \u001b[0;36m1000\u001b[0m\u001b[0;34m)\u001b[0m\u001b[0;34m\u001b[0m\u001b[0;34m\u001b[0m\u001b[0m\n\u001b[0m",
            "\u001b[0;32m<ipython-input-29-fe5c4393ebb6>\u001b[0m in \u001b[0;36mplay_multiple_times\u001b[0;34m(env, policy, max_episodes)\u001b[0m\n\u001b[1;32m      3\u001b[0m \u001b[0;34m\u001b[0m\u001b[0m\n\u001b[1;32m      4\u001b[0m     \u001b[0;32mfor\u001b[0m \u001b[0mi\u001b[0m \u001b[0;32min\u001b[0m \u001b[0mrange\u001b[0m\u001b[0;34m(\u001b[0m\u001b[0mmax_episodes\u001b[0m\u001b[0;34m)\u001b[0m\u001b[0;34m:\u001b[0m\u001b[0;34m\u001b[0m\u001b[0;34m\u001b[0m\u001b[0m\n\u001b[0;32m----> 5\u001b[0;31m         \u001b[0mreward\u001b[0m \u001b[0;34m=\u001b[0m \u001b[0mplay\u001b[0m\u001b[0;34m(\u001b[0m\u001b[0menv\u001b[0m\u001b[0;34m,\u001b[0m \u001b[0mpolicy\u001b[0m\u001b[0;34m)\u001b[0m\u001b[0;34m\u001b[0m\u001b[0;34m\u001b[0m\u001b[0m\n\u001b[0m\u001b[1;32m      6\u001b[0m \u001b[0;34m\u001b[0m\u001b[0m\n\u001b[1;32m      7\u001b[0m         \u001b[0;32mif\u001b[0m \u001b[0mreward\u001b[0m \u001b[0;34m>\u001b[0m \u001b[0;36m0\u001b[0m\u001b[0;34m:\u001b[0m\u001b[0;34m\u001b[0m\u001b[0;34m\u001b[0m\u001b[0m\n",
            "\u001b[0;31mNameError\u001b[0m: name 'play' is not defined"
          ]
        }
      ]
    }
  ]
}